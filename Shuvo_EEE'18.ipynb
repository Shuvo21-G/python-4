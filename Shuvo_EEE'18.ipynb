{
 "cells": [
  {
   "cell_type": "code",
   "execution_count": 5,
   "metadata": {},
   "outputs": [
    {
     "name": "stdout",
     "output_type": "stream",
     "text": [
      "1008\n",
      "1080\n",
      "1152\n",
      "1224\n",
      "1296\n",
      "1368\n",
      "1440\n",
      "1512\n",
      "1584\n",
      "1656\n",
      "1728\n",
      "1800\n"
     ]
    }
   ],
   "source": [
    "#Problem_1\n",
    "\n",
    "for num in range(1000,1801) :\n",
    "    if num % 8 == 0 and num % 3 == 0 and num % 9== 0 :\n",
    "        print(num)\n",
    "\n",
    "\n"
   ]
  },
  {
   "cell_type": "code",
   "execution_count": 13,
   "metadata": {},
   "outputs": [
    {
     "name": "stdout",
     "output_type": "stream",
     "text": [
      "IEEE HSTU SB"
     ]
    }
   ],
   "source": [
    "#Problem_2\n",
    "\n",
    "touple = ('I','E','E','E','H','S','T','U','S','B')\n",
    "for i in range(10) :\n",
    "    print(touple[i],end = \"\")\n",
    "    if i == 3 :\n",
    "        print(\"\",end = \" \")\n",
    "    if i == 7 :\n",
    "        print(\"\",end = \" \")\n",
    "    #print(i)\n",
    "#print(touple)\n",
    "\n"
   ]
  },
  {
   "cell_type": "code",
   "execution_count": 1,
   "metadata": {},
   "outputs": [
    {
     "name": "stdout",
     "output_type": "stream",
     "text": [
      "Enter first length of the triangle 12\n",
      "Enter second length of the triangle 7\n",
      "Enter third length of the triangle 12\n",
      "It is isosceles triangle\n"
     ]
    }
   ],
   "source": [
    "#Problem_3\n",
    "\n",
    "a = int(input(\"Enter first length of the triangle \"))\n",
    "b = int(input(\"Enter second length of the triangle \"))\n",
    "c = int(input(\"Enter third length of the triangle \"))\n",
    "\n",
    "if a == b == c :\n",
    "    print(\"It is Equilatertal triangle\")\n",
    "elif a==b or b==c or c==a :\n",
    "    print(\"It is isosceles triangle\")\n",
    "else :\n",
    "    print(\"It is Scalene triangle\")\n",
    "\n"
   ]
  },
  {
   "cell_type": "code",
   "execution_count": 29,
   "metadata": {},
   "outputs": [
    {
     "name": "stdout",
     "output_type": "stream",
     "text": [
      "Enter a positive Number 5\n",
      "5 X 1 = 5\n",
      "5 X 2 = 10\n",
      "5 X 3 = 15\n",
      "5 X 4 = 20\n",
      "5 X 5 = 25\n",
      "5 X 6 = 30\n",
      "5 X 7 = 35\n",
      "5 X 8 = 40\n",
      "5 X 9 = 45\n",
      "5 X 10 = 50\n"
     ]
    }
   ],
   "source": [
    "#Problem_4\n",
    "\n",
    "num = int(input(\"Enter a positive Number \"))\n",
    "\n",
    "for i in range(1,11) :\n",
    "    print(num, 'X', i, '=' ,num * i)\n",
    "    \n"
   ]
  },
  {
   "cell_type": "code",
   "execution_count": 27,
   "metadata": {},
   "outputs": [
    {
     "name": "stdout",
     "output_type": "stream",
     "text": [
      "Enter a YEAR 2009\n",
      "This year is not leap year\n"
     ]
    }
   ],
   "source": [
    "#Problem_5\n",
    "\n",
    "year= int(input(\"Enter a YEAR \"))\n",
    "\n",
    "if year % 100 != 0 and year % 4 == 0 :\n",
    "    print(\"This is leap year\")\n",
    "elif year % 100 == 0 and year % 400 == 0 :\n",
    "    print(\"This is leap year\")\n",
    "else :\n",
    "    print(\"This year is not leap year\")\n",
    "    \n",
    "    "
   ]
  },
  {
   "cell_type": "code",
   "execution_count": 11,
   "metadata": {},
   "outputs": [
    {
     "name": "stdout",
     "output_type": "stream",
     "text": [
      "Enter Length of the triangle 45\n",
      "Enter Height of the triangle 23.5\n",
      "Area of this triangle is  528.75\n"
     ]
    }
   ],
   "source": [
    "#Problem_6_a\n",
    "\n",
    "length = float(input(\"Enter Length of the triangle \"))\n",
    "height = float(input(\"Enter Height of the triangle \"))\n",
    "\n",
    "a = 0.5*length*height\n",
    "Area = float(a)\n",
    "\n",
    "print(\"Area of this triangle is \",Area)\n",
    "\n"
   ]
  },
  {
   "cell_type": "code",
   "execution_count": 6,
   "metadata": {},
   "outputs": [
    {
     "name": "stdout",
     "output_type": "stream",
     "text": [
      "Enter length of the Rectangle 15\n",
      "Enter width of the Rectangle 12\n",
      "Area of this Rectangle is  180.0\n"
     ]
    }
   ],
   "source": [
    "#Problem_6_b\n",
    "\n",
    "length = float(input(\"Enter length of the Rectangle \"))\n",
    "width = float(input(\"Enter width of the Rectangle \"))\n",
    "\n",
    "Area = float(length*width)\n",
    "\n",
    "print(\"Area of this Rectangle is \",Area)"
   ]
  },
  {
   "cell_type": "code",
   "execution_count": 7,
   "metadata": {},
   "outputs": [
    {
     "name": "stdout",
     "output_type": "stream",
     "text": [
      "Enter radius of the circle 4\n",
      "Area of the Circle is  50.2656\n"
     ]
    }
   ],
   "source": [
    "#Problem_6_c\n",
    "\n",
    "r = float(input(\"Enter radius of the circle \"))\n",
    "\n",
    "Area = float(3.1416*r*r)\n",
    "\n",
    "print(\"Area of the Circle is \",Area)\n",
    "\n"
   ]
  }
 ],
 "metadata": {
  "kernelspec": {
   "display_name": "Python 3",
   "language": "python",
   "name": "python3"
  },
  "language_info": {
   "codemirror_mode": {
    "name": "ipython",
    "version": 3
   },
   "file_extension": ".py",
   "mimetype": "text/x-python",
   "name": "python",
   "nbconvert_exporter": "python",
   "pygments_lexer": "ipython3",
   "version": "3.8.5"
  }
 },
 "nbformat": 4,
 "nbformat_minor": 4
}
